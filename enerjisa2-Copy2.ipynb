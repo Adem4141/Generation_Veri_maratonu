{
 "cells": [
  {
   "cell_type": "markdown",
   "id": "0c5b2f71",
   "metadata": {},
   "source": [
    "saatler arasında anlamlı farklar olabilir\n",
    "categorical Particle Counter',\n",
    " 'External Power Limit',\n",
    " 'Blade-2 Actual Value_Angle-B',\n",
    " 'Blade-1 Actual Value_Angle-B',\n",
    " 'Blade-3 Actual Value_Angle-B\n",
    " \n",
    "\n",
    "\n"
   ]
  },
  {
   "cell_type": "code",
   "execution_count": 1,
   "id": "279f6f69",
   "metadata": {},
   "outputs": [],
   "source": [
    "import pandas as pd \n",
    "import numpy as np\n",
    "features = pd.read_csv('features.csv')\n",
    "power = pd.read_csv('power.csv')\n",
    "sample_submission = pd.read_csv('sample_submission.csv')\n",
    "temperature = pd.read_csv('Temperature.csv',sep=';')\n",
    "\n",
    "\n",
    "\n",
    "pd.set_option(\"display.max_columns\", None)\n",
    "pd.set_option(\"display.max_rows\", None)\n",
    "main = pd.merge(features,power,how = 'left',on = 'Timestamp')\n",
    "main.rename(columns={'Power(kW)':'power'},inplace=True)\n",
    "\n",
    "train = main[main['power'].isna() == False]\n",
    "test = main[main['power'].isna()]"
   ]
  },
  {
   "cell_type": "code",
   "execution_count": 2,
   "id": "39c0f5d3",
   "metadata": {},
   "outputs": [
    {
     "data": {
      "text/plain": [
       "(154262, 78)"
      ]
     },
     "execution_count": 2,
     "metadata": {},
     "output_type": "execute_result"
    }
   ],
   "source": [
    "main.shape"
   ]
  },
  {
   "cell_type": "code",
   "execution_count": 11,
   "id": "4b055fb6",
   "metadata": {},
   "outputs": [
    {
     "data": {
      "image/png": "[encoded data removed]",
      "text/plain": [
       "<Figure size 432x288 with 1 Axes>"
      ]
     },
     "metadata": {
      "needs_background": "light"
     },
     "output_type": "display_data"
    }
   ],
   "source": [
    "main.plot.scatter(x='Torque', y='power', ylim=(0.001));"
   ]
  },
  {
   "cell_type": "code",
   "execution_count": 29,
   "id": "421becd9",
   "metadata": {},
   "outputs": [
    {
     "data": {
      "text/plain": [
       "1138.5563496164325"
      ]
     },
     "execution_count": 29,
     "metadata": {},
     "output_type": "execute_result"
    }
   ],
   "source": [
    "main.power.mean()"
   ]
  },
  {
   "cell_type": "code",
   "execution_count": 30,
   "id": "179c5f3a",
   "metadata": {},
   "outputs": [],
   "source": [
    "sam= main.sample(5000)"
   ]
  },
  {
   "cell_type": "code",
   "execution_count": 31,
   "id": "5c856941",
   "metadata": {},
   "outputs": [
    {
     "data": {
      "text/plain": [
       "1120.4500966408498"
      ]
     },
     "execution_count": 31,
     "metadata": {},
     "output_type": "execute_result"
    }
   ],
   "source": [
    "sam.power.mean()"
   ]
  },
  {
   "cell_type": "code",
   "execution_count": null,
   "id": "88def22a",
   "metadata": {},
   "outputs": [],
   "source": [
    "#scatter plot totalbsmtsf/saleprice\n",
    "\n",
    "data = pd.concat([df_train['SalePrice'], df_train[var]], axis=1)\n",
    "data.plot.scatter(x=var, y='SalePrice', ylim=(0,800000));"
   ]
  },
  {
   "cell_type": "code",
   "execution_count": 35,
   "id": "c5fe1c13",
   "metadata": {},
   "outputs": [
    {
     "data": {
      "text/plain": [
       "<AxesSubplot:xlabel='Torque', ylabel='power'>"
      ]
     },
     "execution_count": 35,
     "metadata": {},
     "output_type": "execute_result"
    },
    {
     "data": {
      "image/png": "[encoded data removed]",
      "text/plain": [
       "<Figure size 432x288 with 1 Axes>"
      ]
     },
     "metadata": {
      "needs_background": "light"
     },
     "output_type": "display_data"
    }
   ],
   "source": [
    "main[main.Torque > 20000].plot.scatter(x='Torque',y = 'power')"
   ]
  },
  {
   "cell_type": "code",
   "execution_count": 33,
   "id": "20881612",
   "metadata": {},
   "outputs": [
    {
     "data": {
      "text/plain": [
       "<AxesSubplot:xlabel='Torque', ylabel='power'>"
      ]
     },
     "execution_count": 33,
     "metadata": {},
     "output_type": "execute_result"
    },
    {
     "data": {
      "image/png": "[encoded data removed]",
      "text/plain": [
       "<Figure size 432x288 with 1 Axes>"
      ]
     },
     "metadata": {
      "needs_background": "light"
     },
     "output_type": "display_data"
    }
   ],
   "source": [
    "sam[sam.Torque < 20000].plot.scatter(x='Torque',y = 'power')"
   ]
  },
  {
   "cell_type": "code",
   "execution_count": 16,
   "id": "cac9e83f",
   "metadata": {},
   "outputs": [],
   "source": [
    "##RFE CHOSEN FEATURES\n",
    "\n",
    "liste = ['Timestamp','Torque', 'Converter Control Unit Reactive Power',\n",
    "       'Temperature Trafo-2', 'Reactive Power', 'Temperature Shaft Bearing-1',\n",
    "       'Gearbox_Distributor_Temperature', 'Moment D Filtered',\n",
    "       'Moment D Direction', 'N-set 1', 'Operating State', 'Power Factor',\n",
    "       'Temperature Shaft Bearing-2', 'Temperature_Nacelle', 'Voltage A-N',\n",
    "       'Temperature Axis Box-3', 'State and Fault', 'Proxy Sensor_Degree-225',\n",
    "       'Blade-3 Actual Value_Angle-A', 'Scope CH 4',\n",
    "       'Blade-2 Actual Value_Angle-A', 'Blade-1 Actual Value_Angle-A',\n",
    "       'Blade-2 Set Value_Degree', 'Pitch Demand Baseline_Degree',\n",
    "       'Blade-1 Set Value_Degree', 'Blade-3 Set Value_Degree',\n",
    "       'Moment Q Direction', 'Moment Q Filltered', 'Proxy Sensor_Degree-45',\n",
    "       'Turbine State', 'Proxy Sensor_Degree-315','power']"
   ]
  },
  {
   "cell_type": "code",
   "execution_count": 17,
   "id": "4e8b82bc",
   "metadata": {},
   "outputs": [],
   "source": [
    "test = test[liste]"
   ]
  },
  {
   "cell_type": "code",
   "execution_count": null,
   "id": "31731d7c",
   "metadata": {},
   "outputs": [],
   "source": []
  },
  {
   "cell_type": "code",
   "execution_count": null,
   "id": "dbadb652",
   "metadata": {},
   "outputs": [],
   "source": []
  },
  {
   "cell_type": "code",
   "execution_count": 18,
   "id": "de247e49",
   "metadata": {},
   "outputs": [],
   "source": [
    "train = train[liste]"
   ]
  },
  {
   "cell_type": "code",
   "execution_count": 21,
   "id": "30f99018",
   "metadata": {},
   "outputs": [
    {
     "data": {
      "text/plain": [
       "(19397, 31)"
      ]
     },
     "execution_count": 21,
     "metadata": {},
     "output_type": "execute_result"
    }
   ],
   "source": [
    "train = train.dropna()\n",
    "train.shape"
   ]
  },
  {
   "cell_type": "code",
   "execution_count": 20,
   "id": "92a2619e",
   "metadata": {},
   "outputs": [],
   "source": [
    "train['Timestamp'] = pd.to_datetime(train['Timestamp'])\n",
    "train = train[(train.Timestamp.dt.month >= 8) & (train.Timestamp.dt.month <= 12)]\n",
    "train = train.drop('Timestamp',axis = 1)"
   ]
  },
  {
   "cell_type": "code",
   "execution_count": null,
   "id": "286ffdd1",
   "metadata": {},
   "outputs": [],
   "source": []
  },
  {
   "cell_type": "code",
   "execution_count": 34,
   "id": "5e89b14d",
   "metadata": {},
   "outputs": [],
   "source": [
    "X_test = test.drop(['power','Timestamp'],axis =1)\n"
   ]
  },
  {
   "cell_type": "code",
   "execution_count": 35,
   "id": "7f1530a8",
   "metadata": {},
   "outputs": [
    {
     "data": {
      "text/html": [
       "<div>\n",
       "<style scoped>\n",
       "    .dataframe tbody tr th:only-of-type {\n",
       "        vertical-align: middle;\n",
       "    }\n",
       "\n",
       "    .dataframe tbody tr th {\n",
       "        vertical-align: top;\n",
       "    }\n",
       "\n",
       "    .dataframe thead th {\n",
       "        text-align: right;\n",
       "    }\n",
       "</style>\n",
       "<table border=\"1\" class=\"dataframe\">\n",
       "  <thead>\n",
       "    <tr style=\"text-align: right;\">\n",
       "      <th></th>\n",
       "      <th>Torque</th>\n",
       "      <th>Converter Control Unit Reactive Power</th>\n",
       "      <th>Temperature Trafo-2</th>\n",
       "      <th>Reactive Power</th>\n",
       "      <th>Temperature Shaft Bearing-1</th>\n",
       "      <th>Gearbox_Distributor_Temperature</th>\n",
       "      <th>Moment D Filtered</th>\n",
       "      <th>Moment D Direction</th>\n",
       "      <th>N-set 1</th>\n",
       "      <th>Operating State</th>\n",
       "      <th>Power Factor</th>\n",
       "      <th>Temperature Shaft Bearing-2</th>\n",
       "      <th>Temperature_Nacelle</th>\n",
       "      <th>Voltage A-N</th>\n",
       "      <th>Temperature Axis Box-3</th>\n",
       "      <th>State and Fault</th>\n",
       "      <th>Proxy Sensor_Degree-225</th>\n",
       "      <th>Blade-3 Actual Value_Angle-A</th>\n",
       "      <th>Scope CH 4</th>\n",
       "      <th>Blade-2 Actual Value_Angle-A</th>\n",
       "      <th>Blade-1 Actual Value_Angle-A</th>\n",
       "      <th>Blade-2 Set Value_Degree</th>\n",
       "      <th>Pitch Demand Baseline_Degree</th>\n",
       "      <th>Blade-1 Set Value_Degree</th>\n",
       "      <th>Blade-3 Set Value_Degree</th>\n",
       "      <th>Moment Q Direction</th>\n",
       "      <th>Moment Q Filltered</th>\n",
       "      <th>Proxy Sensor_Degree-45</th>\n",
       "      <th>Turbine State</th>\n",
       "      <th>Proxy Sensor_Degree-315</th>\n",
       "    </tr>\n",
       "  </thead>\n",
       "  <tbody>\n",
       "    <tr>\n",
       "      <th>136730</th>\n",
       "      <td>100.958351</td>\n",
       "      <td>567.088318</td>\n",
       "      <td>128.000000</td>\n",
       "      <td>535.359985</td>\n",
       "      <td>48.0</td>\n",
       "      <td>47.000000</td>\n",
       "      <td>261.222717</td>\n",
       "      <td>264.770386</td>\n",
       "      <td>1735.0</td>\n",
       "      <td>16.0</td>\n",
       "      <td>0.979850</td>\n",
       "      <td>43.000000</td>\n",
       "      <td>31.003334</td>\n",
       "      <td>407.476654</td>\n",
       "      <td>37.0</td>\n",
       "      <td>2.0</td>\n",
       "      <td>5.876678</td>\n",
       "      <td>8.269771</td>\n",
       "      <td>8.269771</td>\n",
       "      <td>9.494538</td>\n",
       "      <td>9.020904</td>\n",
       "      <td>9.493241</td>\n",
       "      <td>8.925109</td>\n",
       "      <td>9.014512</td>\n",
       "      <td>8.266594</td>\n",
       "      <td>-41.861877</td>\n",
       "      <td>-37.917656</td>\n",
       "      <td>5.739297</td>\n",
       "      <td>1.0</td>\n",
       "      <td>5.734730</td>\n",
       "    </tr>\n",
       "    <tr>\n",
       "      <th>136731</th>\n",
       "      <td>100.329117</td>\n",
       "      <td>324.888336</td>\n",
       "      <td>128.000000</td>\n",
       "      <td>294.001678</td>\n",
       "      <td>48.0</td>\n",
       "      <td>47.000000</td>\n",
       "      <td>270.871674</td>\n",
       "      <td>271.347107</td>\n",
       "      <td>1735.0</td>\n",
       "      <td>16.0</td>\n",
       "      <td>0.989005</td>\n",
       "      <td>43.000000</td>\n",
       "      <td>31.000000</td>\n",
       "      <td>405.035004</td>\n",
       "      <td>37.0</td>\n",
       "      <td>2.0</td>\n",
       "      <td>5.872590</td>\n",
       "      <td>6.293597</td>\n",
       "      <td>6.293597</td>\n",
       "      <td>7.516338</td>\n",
       "      <td>7.031114</td>\n",
       "      <td>7.507399</td>\n",
       "      <td>6.937748</td>\n",
       "      <td>7.022389</td>\n",
       "      <td>6.287027</td>\n",
       "      <td>-19.210815</td>\n",
       "      <td>-19.602339</td>\n",
       "      <td>5.720869</td>\n",
       "      <td>1.0</td>\n",
       "      <td>5.726634</td>\n",
       "    </tr>\n",
       "    <tr>\n",
       "      <th>136732</th>\n",
       "      <td>100.444016</td>\n",
       "      <td>361.404999</td>\n",
       "      <td>127.551666</td>\n",
       "      <td>331.353333</td>\n",
       "      <td>48.0</td>\n",
       "      <td>46.900002</td>\n",
       "      <td>264.673279</td>\n",
       "      <td>265.549255</td>\n",
       "      <td>1735.0</td>\n",
       "      <td>16.0</td>\n",
       "      <td>0.989917</td>\n",
       "      <td>43.000000</td>\n",
       "      <td>31.000000</td>\n",
       "      <td>405.660004</td>\n",
       "      <td>37.0</td>\n",
       "      <td>2.0</td>\n",
       "      <td>5.871985</td>\n",
       "      <td>6.841763</td>\n",
       "      <td>6.841763</td>\n",
       "      <td>8.060219</td>\n",
       "      <td>7.579885</td>\n",
       "      <td>8.065812</td>\n",
       "      <td>7.497398</td>\n",
       "      <td>7.581376</td>\n",
       "      <td>6.844808</td>\n",
       "      <td>-28.144068</td>\n",
       "      <td>-34.329105</td>\n",
       "      <td>5.727475</td>\n",
       "      <td>1.0</td>\n",
       "      <td>5.728649</td>\n",
       "    </tr>\n",
       "    <tr>\n",
       "      <th>136733</th>\n",
       "      <td>100.590530</td>\n",
       "      <td>361.053345</td>\n",
       "      <td>127.000000</td>\n",
       "      <td>329.538330</td>\n",
       "      <td>48.0</td>\n",
       "      <td>46.285000</td>\n",
       "      <td>244.336014</td>\n",
       "      <td>240.028870</td>\n",
       "      <td>1735.0</td>\n",
       "      <td>16.0</td>\n",
       "      <td>0.990000</td>\n",
       "      <td>43.000000</td>\n",
       "      <td>31.000000</td>\n",
       "      <td>405.601654</td>\n",
       "      <td>37.0</td>\n",
       "      <td>2.0</td>\n",
       "      <td>5.874398</td>\n",
       "      <td>6.902684</td>\n",
       "      <td>6.902684</td>\n",
       "      <td>8.131298</td>\n",
       "      <td>7.656176</td>\n",
       "      <td>8.132490</td>\n",
       "      <td>7.565773</td>\n",
       "      <td>7.654368</td>\n",
       "      <td>6.909220</td>\n",
       "      <td>-7.592476</td>\n",
       "      <td>-11.718444</td>\n",
       "      <td>5.728980</td>\n",
       "      <td>1.0</td>\n",
       "      <td>5.739824</td>\n",
       "    </tr>\n",
       "    <tr>\n",
       "      <th>136734</th>\n",
       "      <td>101.075531</td>\n",
       "      <td>341.214996</td>\n",
       "      <td>127.000000</td>\n",
       "      <td>309.578339</td>\n",
       "      <td>48.0</td>\n",
       "      <td>46.463333</td>\n",
       "      <td>243.551773</td>\n",
       "      <td>240.619141</td>\n",
       "      <td>1735.0</td>\n",
       "      <td>16.0</td>\n",
       "      <td>0.990000</td>\n",
       "      <td>42.983334</td>\n",
       "      <td>31.000000</td>\n",
       "      <td>405.261658</td>\n",
       "      <td>37.0</td>\n",
       "      <td>2.0</td>\n",
       "      <td>5.882390</td>\n",
       "      <td>8.315566</td>\n",
       "      <td>8.315566</td>\n",
       "      <td>9.547508</td>\n",
       "      <td>9.063366</td>\n",
       "      <td>9.546413</td>\n",
       "      <td>8.974770</td>\n",
       "      <td>9.064083</td>\n",
       "      <td>8.313858</td>\n",
       "      <td>-7.760864</td>\n",
       "      <td>-9.863355</td>\n",
       "      <td>5.736651</td>\n",
       "      <td>1.0</td>\n",
       "      <td>5.747692</td>\n",
       "    </tr>\n",
       "  </tbody>\n",
       "</table>\n",
       "</div>"
      ],
      "text/plain": [
       "            Torque  Converter Control Unit Reactive Power  \\\n",
       "136730  100.958351                             567.088318   \n",
       "136731  100.329117                             324.888336   \n",
       "136732  100.444016                             361.404999   \n",
       "136733  100.590530                             361.053345   \n",
       "136734  101.075531                             341.214996   \n",
       "\n",
       "        Temperature Trafo-2  Reactive Power  Temperature Shaft Bearing-1  \\\n",
       "136730           128.000000      535.359985                         48.0   \n",
       "136731           128.000000      294.001678                         48.0   \n",
       "136732           127.551666      331.353333                         48.0   \n",
       "136733           127.000000      329.538330                         48.0   \n",
       "136734           127.000000      309.578339                         48.0   \n",
       "\n",
       "        Gearbox_Distributor_Temperature  Moment D Filtered  \\\n",
       "136730                        47.000000         261.222717   \n",
       "136731                        47.000000         270.871674   \n",
       "136732                        46.900002         264.673279   \n",
       "136733                        46.285000         244.336014   \n",
       "136734                        46.463333         243.551773   \n",
       "\n",
       "        Moment D Direction  N-set 1  Operating State  Power Factor  \\\n",
       "136730          264.770386   1735.0             16.0      0.979850   \n",
       "136731          271.347107   1735.0             16.0      0.989005   \n",
       "136732          265.549255   1735.0             16.0      0.989917   \n",
       "136733          240.028870   1735.0             16.0      0.990000   \n",
       "136734          240.619141   1735.0             16.0      0.990000   \n",
       "\n",
       "        Temperature Shaft Bearing-2  Temperature_Nacelle  Voltage A-N  \\\n",
       "136730                    43.000000            31.003334   407.476654   \n",
       "136731                    43.000000            31.000000   405.035004   \n",
       "136732                    43.000000            31.000000   405.660004   \n",
       "136733                    43.000000            31.000000   405.601654   \n",
       "136734                    42.983334            31.000000   405.261658   \n",
       "\n",
       "        Temperature Axis Box-3  State and Fault  Proxy Sensor_Degree-225  \\\n",
       "136730                    37.0              2.0                 5.876678   \n",
       "136731                    37.0              2.0                 5.872590   \n",
       "136732                    37.0              2.0                 5.871985   \n",
       "136733                    37.0              2.0                 5.874398   \n",
       "136734                    37.0              2.0                 5.882390   \n",
       "\n",
       "        Blade-3 Actual Value_Angle-A  Scope CH 4  \\\n",
       "136730                      8.269771    8.269771   \n",
       "136731                      6.293597    6.293597   \n",
       "136732                      6.841763    6.841763   \n",
       "136733                      6.902684    6.902684   \n",
       "136734                      8.315566    8.315566   \n",
       "\n",
       "        Blade-2 Actual Value_Angle-A  Blade-1 Actual Value_Angle-A  \\\n",
       "136730                      9.494538                      9.020904   \n",
       "136731                      7.516338                      7.031114   \n",
       "136732                      8.060219                      7.579885   \n",
       "136733                      8.131298                      7.656176   \n",
       "136734                      9.547508                      9.063366   \n",
       "\n",
       "        Blade-2 Set Value_Degree  Pitch Demand Baseline_Degree  \\\n",
       "136730                  9.493241                      8.925109   \n",
       "136731                  7.507399                      6.937748   \n",
       "136732                  8.065812                      7.497398   \n",
       "136733                  8.132490                      7.565773   \n",
       "136734                  9.546413                      8.974770   \n",
       "\n",
       "        Blade-1 Set Value_Degree  Blade-3 Set Value_Degree  \\\n",
       "136730                  9.014512                  8.266594   \n",
       "136731                  7.022389                  6.287027   \n",
       "136732                  7.581376                  6.844808   \n",
       "136733                  7.654368                  6.909220   \n",
       "136734                  9.064083                  8.313858   \n",
       "\n",
       "        Moment Q Direction  Moment Q Filltered  Proxy Sensor_Degree-45  \\\n",
       "136730          -41.861877          -37.917656                5.739297   \n",
       "136731          -19.210815          -19.602339                5.720869   \n",
       "136732          -28.144068          -34.329105                5.727475   \n",
       "136733           -7.592476          -11.718444                5.728980   \n",
       "136734           -7.760864           -9.863355                5.736651   \n",
       "\n",
       "        Turbine State  Proxy Sensor_Degree-315  \n",
       "136730            1.0                 5.734730  \n",
       "136731            1.0                 5.726634  \n",
       "136732            1.0                 5.728649  \n",
       "136733            1.0                 5.739824  \n",
       "136734            1.0                 5.747692  "
      ]
     },
     "execution_count": 35,
     "metadata": {},
     "output_type": "execute_result"
    }
   ],
   "source": [
    "X_test.head()"
   ]
  },
  {
   "cell_type": "code",
   "execution_count": 36,
   "id": "fbb1df9f",
   "metadata": {},
   "outputs": [],
   "source": [
    "from sklearn.impute import KNNImputer\n",
    "\n",
    "imputer = KNNImputer(n_neighbors=2, weights=\"uniform\")\n",
    "X_test = pd.DataFrame(imputer.fit_transform(X_test),columns = X_test.columns)"
   ]
  },
  {
   "cell_type": "markdown",
   "id": "e1dbcaf8",
   "metadata": {},
   "source": [
    "from sklearn.cluster import KMeans\n",
    "import numpy as np\n",
    "from sklearn.preprocessing import MinMaxScaler\n",
    "X= main[['Gearbox_Oil_Temperature']]\n",
    "sc = MinMaxScaler()\n",
    "X = sc.fit_transform(X)\n",
    "kmeans = KMeans(n_clusters=5, random_state=0).fit(X)\n",
    "b = kmeans.labels_\n",
    "\n",
    "a = kmeans.predict(X)\n",
    "\n",
    "c = kmeans.cluster_centers_\n",
    "main['cluster'] = b\n",
    "#main.cluster = main.cluster + 1"
   ]
  },
  {
   "cell_type": "code",
   "execution_count": null,
   "id": "8fd43fbc",
   "metadata": {},
   "outputs": [],
   "source": [
    "lowerdic = {}\n",
    "def get_lower_quantile(col):\n",
    "    lowerdic[col] = main[col].quantile(0.01)\n",
    "count = 0\n",
    "for i in main.columns:\n",
    "    get_lower_quantile(i)\n",
    "    count += 1\n",
    "    if count == 4:\n",
    "        break\n",
    "        \n",
    "upperdic = {}\n",
    "def get_upper_quantile(col):\n",
    "    upperdic[col] = main[col].quantile(0.96)\n",
    "count = 0\n",
    "for i in main.columns:\n",
    "    get_upper_quantile(i)\n",
    "    count += 1\n",
    "    if count == 4:\n",
    "        break\n",
    "        \n",
    "        \n",
    "for i,j in lowerdic.items():\n",
    "    main = main[main[i] > j]\n",
    "    \n",
    "for i,j in upperdic.items():\n",
    "    main = main[main[i] < j]\n",
    "        "
   ]
  },
  {
   "cell_type": "code",
   "execution_count": null,
   "id": "a6cf5a23",
   "metadata": {
    "scrolled": true
   },
   "outputs": [],
   "source": [
    "from sklearn.model_selection import train_test_split\n",
    "\n",
    "X= main.drop(['power'],axis = 1)\n",
    "y = main[['power']]\n",
    "\n",
    "X_train, X_test, y_train, y_test = train_test_split(\n",
    "    X, y, test_size=0.33, random_state=42)\n"
   ]
  },
  {
   "cell_type": "code",
   "execution_count": 37,
   "id": "91b42fe9",
   "metadata": {},
   "outputs": [],
   "source": [
    "X_train = train.drop('power',axis = 1)\n",
    "y_train = train['power']"
   ]
  },
  {
   "cell_type": "code",
   "execution_count": 38,
   "id": "eb1fb1b8",
   "metadata": {},
   "outputs": [
    {
     "data": {
      "text/plain": [
       "((19397, 30), (17532, 30))"
      ]
     },
     "execution_count": 38,
     "metadata": {},
     "output_type": "execute_result"
    }
   ],
   "source": [
    "X_train.shape,X_test.shape"
   ]
  },
  {
   "cell_type": "code",
   "execution_count": 40,
   "id": "6c236319",
   "metadata": {},
   "outputs": [
    {
     "data": {
      "text/html": [
       "<div>\n",
       "<style scoped>\n",
       "    .dataframe tbody tr th:only-of-type {\n",
       "        vertical-align: middle;\n",
       "    }\n",
       "\n",
       "    .dataframe tbody tr th {\n",
       "        vertical-align: top;\n",
       "    }\n",
       "\n",
       "    .dataframe thead th {\n",
       "        text-align: right;\n",
       "    }\n",
       "</style>\n",
       "<table border=\"1\" class=\"dataframe\">\n",
       "  <thead>\n",
       "    <tr style=\"text-align: right;\">\n",
       "      <th></th>\n",
       "      <th>Torque</th>\n",
       "      <th>Converter Control Unit Reactive Power</th>\n",
       "      <th>Temperature Trafo-2</th>\n",
       "      <th>Reactive Power</th>\n",
       "      <th>Temperature Shaft Bearing-1</th>\n",
       "      <th>Gearbox_Distributor_Temperature</th>\n",
       "      <th>Moment D Filtered</th>\n",
       "      <th>Moment D Direction</th>\n",
       "      <th>N-set 1</th>\n",
       "      <th>Operating State</th>\n",
       "      <th>Power Factor</th>\n",
       "      <th>Temperature Shaft Bearing-2</th>\n",
       "      <th>Temperature_Nacelle</th>\n",
       "      <th>Voltage A-N</th>\n",
       "      <th>Temperature Axis Box-3</th>\n",
       "      <th>State and Fault</th>\n",
       "      <th>Proxy Sensor_Degree-225</th>\n",
       "      <th>Blade-3 Actual Value_Angle-A</th>\n",
       "      <th>Scope CH 4</th>\n",
       "      <th>Blade-2 Actual Value_Angle-A</th>\n",
       "      <th>Blade-1 Actual Value_Angle-A</th>\n",
       "      <th>Blade-2 Set Value_Degree</th>\n",
       "      <th>Pitch Demand Baseline_Degree</th>\n",
       "      <th>Blade-1 Set Value_Degree</th>\n",
       "      <th>Blade-3 Set Value_Degree</th>\n",
       "      <th>Moment Q Direction</th>\n",
       "      <th>Moment Q Filltered</th>\n",
       "      <th>Proxy Sensor_Degree-45</th>\n",
       "      <th>Turbine State</th>\n",
       "      <th>Proxy Sensor_Degree-315</th>\n",
       "    </tr>\n",
       "  </thead>\n",
       "  <tbody>\n",
       "    <tr>\n",
       "      <th>0</th>\n",
       "      <td>100.958351</td>\n",
       "      <td>567.088318</td>\n",
       "      <td>128.000000</td>\n",
       "      <td>535.359985</td>\n",
       "      <td>48.0</td>\n",
       "      <td>47.000000</td>\n",
       "      <td>261.222717</td>\n",
       "      <td>264.770386</td>\n",
       "      <td>1735.0</td>\n",
       "      <td>16.0</td>\n",
       "      <td>0.979850</td>\n",
       "      <td>43.000000</td>\n",
       "      <td>31.003334</td>\n",
       "      <td>407.476654</td>\n",
       "      <td>37.0</td>\n",
       "      <td>2.0</td>\n",
       "      <td>5.876678</td>\n",
       "      <td>8.269771</td>\n",
       "      <td>8.269771</td>\n",
       "      <td>9.494538</td>\n",
       "      <td>9.020904</td>\n",
       "      <td>9.493241</td>\n",
       "      <td>8.925109</td>\n",
       "      <td>9.014512</td>\n",
       "      <td>8.266594</td>\n",
       "      <td>-41.861877</td>\n",
       "      <td>-37.917656</td>\n",
       "      <td>5.739297</td>\n",
       "      <td>1.0</td>\n",
       "      <td>5.734730</td>\n",
       "    </tr>\n",
       "    <tr>\n",
       "      <th>1</th>\n",
       "      <td>100.329117</td>\n",
       "      <td>324.888336</td>\n",
       "      <td>128.000000</td>\n",
       "      <td>294.001678</td>\n",
       "      <td>48.0</td>\n",
       "      <td>47.000000</td>\n",
       "      <td>270.871674</td>\n",
       "      <td>271.347107</td>\n",
       "      <td>1735.0</td>\n",
       "      <td>16.0</td>\n",
       "      <td>0.989005</td>\n",
       "      <td>43.000000</td>\n",
       "      <td>31.000000</td>\n",
       "      <td>405.035004</td>\n",
       "      <td>37.0</td>\n",
       "      <td>2.0</td>\n",
       "      <td>5.872590</td>\n",
       "      <td>6.293597</td>\n",
       "      <td>6.293597</td>\n",
       "      <td>7.516338</td>\n",
       "      <td>7.031114</td>\n",
       "      <td>7.507399</td>\n",
       "      <td>6.937748</td>\n",
       "      <td>7.022389</td>\n",
       "      <td>6.287027</td>\n",
       "      <td>-19.210815</td>\n",
       "      <td>-19.602339</td>\n",
       "      <td>5.720869</td>\n",
       "      <td>1.0</td>\n",
       "      <td>5.726634</td>\n",
       "    </tr>\n",
       "    <tr>\n",
       "      <th>2</th>\n",
       "      <td>100.444016</td>\n",
       "      <td>361.404999</td>\n",
       "      <td>127.551666</td>\n",
       "      <td>331.353333</td>\n",
       "      <td>48.0</td>\n",
       "      <td>46.900002</td>\n",
       "      <td>264.673279</td>\n",
       "      <td>265.549255</td>\n",
       "      <td>1735.0</td>\n",
       "      <td>16.0</td>\n",
       "      <td>0.989917</td>\n",
       "      <td>43.000000</td>\n",
       "      <td>31.000000</td>\n",
       "      <td>405.660004</td>\n",
       "      <td>37.0</td>\n",
       "      <td>2.0</td>\n",
       "      <td>5.871985</td>\n",
       "      <td>6.841763</td>\n",
       "      <td>6.841763</td>\n",
       "      <td>8.060219</td>\n",
       "      <td>7.579885</td>\n",
       "      <td>8.065812</td>\n",
       "      <td>7.497398</td>\n",
       "      <td>7.581376</td>\n",
       "      <td>6.844808</td>\n",
       "      <td>-28.144068</td>\n",
       "      <td>-34.329105</td>\n",
       "      <td>5.727475</td>\n",
       "      <td>1.0</td>\n",
       "      <td>5.728649</td>\n",
       "    </tr>\n",
       "    <tr>\n",
       "      <th>3</th>\n",
       "      <td>100.590530</td>\n",
       "      <td>361.053345</td>\n",
       "      <td>127.000000</td>\n",
       "      <td>329.538330</td>\n",
       "      <td>48.0</td>\n",
       "      <td>46.285000</td>\n",
       "      <td>244.336014</td>\n",
       "      <td>240.028870</td>\n",
       "      <td>1735.0</td>\n",
       "      <td>16.0</td>\n",
       "      <td>0.990000</td>\n",
       "      <td>43.000000</td>\n",
       "      <td>31.000000</td>\n",
       "      <td>405.601654</td>\n",
       "      <td>37.0</td>\n",
       "      <td>2.0</td>\n",
       "      <td>5.874398</td>\n",
       "      <td>6.902684</td>\n",
       "      <td>6.902684</td>\n",
       "      <td>8.131298</td>\n",
       "      <td>7.656176</td>\n",
       "      <td>8.132490</td>\n",
       "      <td>7.565773</td>\n",
       "      <td>7.654368</td>\n",
       "      <td>6.909220</td>\n",
       "      <td>-7.592476</td>\n",
       "      <td>-11.718444</td>\n",
       "      <td>5.728980</td>\n",
       "      <td>1.0</td>\n",
       "      <td>5.739824</td>\n",
       "    </tr>\n",
       "    <tr>\n",
       "      <th>4</th>\n",
       "      <td>101.075531</td>\n",
       "      <td>341.214996</td>\n",
       "      <td>127.000000</td>\n",
       "      <td>309.578339</td>\n",
       "      <td>48.0</td>\n",
       "      <td>46.463333</td>\n",
       "      <td>243.551773</td>\n",
       "      <td>240.619141</td>\n",
       "      <td>1735.0</td>\n",
       "      <td>16.0</td>\n",
       "      <td>0.990000</td>\n",
       "      <td>42.983334</td>\n",
       "      <td>31.000000</td>\n",
       "      <td>405.261658</td>\n",
       "      <td>37.0</td>\n",
       "      <td>2.0</td>\n",
       "      <td>5.882390</td>\n",
       "      <td>8.315566</td>\n",
       "      <td>8.315566</td>\n",
       "      <td>9.547508</td>\n",
       "      <td>9.063366</td>\n",
       "      <td>9.546413</td>\n",
       "      <td>8.974770</td>\n",
       "      <td>9.064083</td>\n",
       "      <td>8.313858</td>\n",
       "      <td>-7.760864</td>\n",
       "      <td>-9.863355</td>\n",
       "      <td>5.736651</td>\n",
       "      <td>1.0</td>\n",
       "      <td>5.747692</td>\n",
       "    </tr>\n",
       "  </tbody>\n",
       "</table>\n",
       "</div>"
      ],
      "text/plain": [
       "       Torque  Converter Control Unit Reactive Power  Temperature Trafo-2  \\\n",
       "0  100.958351                             567.088318           128.000000   \n",
       "1  100.329117                             324.888336           128.000000   \n",
       "2  100.444016                             361.404999           127.551666   \n",
       "3  100.590530                             361.053345           127.000000   \n",
       "4  101.075531                             341.214996           127.000000   \n",
       "\n",
       "   Reactive Power  Temperature Shaft Bearing-1  \\\n",
       "0      535.359985                         48.0   \n",
       "1      294.001678                         48.0   \n",
       "2      331.353333                         48.0   \n",
       "3      329.538330                         48.0   \n",
       "4      309.578339                         48.0   \n",
       "\n",
       "   Gearbox_Distributor_Temperature  Moment D Filtered  Moment D Direction  \\\n",
       "0                        47.000000         261.222717          264.770386   \n",
       "1                        47.000000         270.871674          271.347107   \n",
       "2                        46.900002         264.673279          265.549255   \n",
       "3                        46.285000         244.336014          240.028870   \n",
       "4                        46.463333         243.551773          240.619141   \n",
       "\n",
       "   N-set 1  Operating State  Power Factor  Temperature Shaft Bearing-2  \\\n",
       "0   1735.0             16.0      0.979850                    43.000000   \n",
       "1   1735.0             16.0      0.989005                    43.000000   \n",
       "2   1735.0             16.0      0.989917                    43.000000   \n",
       "3   1735.0             16.0      0.990000                    43.000000   \n",
       "4   1735.0             16.0      0.990000                    42.983334   \n",
       "\n",
       "   Temperature_Nacelle  Voltage A-N  Temperature Axis Box-3  State and Fault  \\\n",
       "0            31.003334   407.476654                    37.0              2.0   \n",
       "1            31.000000   405.035004                    37.0              2.0   \n",
       "2            31.000000   405.660004                    37.0              2.0   \n",
       "3            31.000000   405.601654                    37.0              2.0   \n",
       "4            31.000000   405.261658                    37.0              2.0   \n",
       "\n",
       "   Proxy Sensor_Degree-225  Blade-3 Actual Value_Angle-A  Scope CH 4  \\\n",
       "0                 5.876678                      8.269771    8.269771   \n",
       "1                 5.872590                      6.293597    6.293597   \n",
       "2                 5.871985                      6.841763    6.841763   \n",
       "3                 5.874398                      6.902684    6.902684   \n",
       "4                 5.882390                      8.315566    8.315566   \n",
       "\n",
       "   Blade-2 Actual Value_Angle-A  Blade-1 Actual Value_Angle-A  \\\n",
       "0                      9.494538                      9.020904   \n",
       "1                      7.516338                      7.031114   \n",
       "2                      8.060219                      7.579885   \n",
       "3                      8.131298                      7.656176   \n",
       "4                      9.547508                      9.063366   \n",
       "\n",
       "   Blade-2 Set Value_Degree  Pitch Demand Baseline_Degree  \\\n",
       "0                  9.493241                      8.925109   \n",
       "1                  7.507399                      6.937748   \n",
       "2                  8.065812                      7.497398   \n",
       "3                  8.132490                      7.565773   \n",
       "4                  9.546413                      8.974770   \n",
       "\n",
       "   Blade-1 Set Value_Degree  Blade-3 Set Value_Degree  Moment Q Direction  \\\n",
       "0                  9.014512                  8.266594          -41.861877   \n",
       "1                  7.022389                  6.287027          -19.210815   \n",
       "2                  7.581376                  6.844808          -28.144068   \n",
       "3                  7.654368                  6.909220           -7.592476   \n",
       "4                  9.064083                  8.313858           -7.760864   \n",
       "\n",
       "   Moment Q Filltered  Proxy Sensor_Degree-45  Turbine State  \\\n",
       "0          -37.917656                5.739297            1.0   \n",
       "1          -19.602339                5.720869            1.0   \n",
       "2          -34.329105                5.727475            1.0   \n",
       "3          -11.718444                5.728980            1.0   \n",
       "4           -9.863355                5.736651            1.0   \n",
       "\n",
       "   Proxy Sensor_Degree-315  \n",
       "0                 5.734730  \n",
       "1                 5.726634  \n",
       "2                 5.728649  \n",
       "3                 5.739824  \n",
       "4                 5.747692  "
      ]
     },
     "execution_count": 40,
     "metadata": {},
     "output_type": "execute_result"
    }
   ],
   "source": [
    "X_test.head()"
   ]
  },
  {
   "cell_type": "markdown",
   "id": "17142bb3",
   "metadata": {},
   "source": [
    "from sklearn.preprocessing import StandardScaler\n",
    "scaler = StandardScaler()\n",
    "X_train[X_train.columns] = scaler.fit_transform(X_train[X_train.columns])\n",
    "X_test[X_test.columns] = scaler.fit_transform(X_test[X_test.columns])"
   ]
  },
  {
   "cell_type": "code",
   "execution_count": 41,
   "id": "4f9f8df3",
   "metadata": {},
   "outputs": [],
   "source": [
    "from sklearn.metrics import mean_squared_error\n",
    "from catboost import CatBoostRegressor\n",
    "model = CatBoostRegressor().fit(X_train,y_train,verbose = False)\n",
    "predictions = model.predict(X_test)\n",
    "print(np.sqrt(mean_squared_error(y_test, predictions)))\n"
   ]
  },
  {
   "cell_type": "code",
   "execution_count": null,
   "id": "a4e0df89",
   "metadata": {},
   "outputs": [],
   "source": []
  },
  {
   "cell_type": "code",
   "execution_count": null,
   "id": "0be38621",
   "metadata": {},
   "outputs": [],
   "source": [
    "importance = list(model.feature_importances_)"
   ]
  },
  {
   "cell_type": "code",
   "execution_count": null,
   "id": "a9438e28",
   "metadata": {},
   "outputs": [],
   "source": [
    "new = []\n",
    "for i in range(len(importance)):\n",
    "    if importance[i] > 0:\n",
    "        new.append(i)"
   ]
  },
  {
   "cell_type": "code",
   "execution_count": null,
   "id": "022140b3",
   "metadata": {},
   "outputs": [],
   "source": [
    "\n",
    "importance"
   ]
  },
  {
   "cell_type": "code",
   "execution_count": null,
   "id": "b72d582d",
   "metadata": {},
   "outputs": [],
   "source": []
  },
  {
   "cell_type": "code",
   "execution_count": null,
   "id": "0d9097e1",
   "metadata": {},
   "outputs": [],
   "source": [
    "feature_list = []\n",
    "for i in new:\n",
    "    feature_list.append(main.columns[i])\n"
   ]
  },
  {
   "cell_type": "code",
   "execution_count": null,
   "id": "98cacb6e",
   "metadata": {},
   "outputs": [],
   "source": []
  },
  {
   "cell_type": "code",
   "execution_count": null,
   "id": "6f9ac85f",
   "metadata": {},
   "outputs": [],
   "source": []
  },
  {
   "cell_type": "code",
   "execution_count": null,
   "id": "aa95d896",
   "metadata": {},
   "outputs": [],
   "source": []
  },
  {
   "cell_type": "code",
   "execution_count": null,
   "id": "4cd05210",
   "metadata": {},
   "outputs": [],
   "source": []
  },
  {
   "cell_type": "code",
   "execution_count": 42,
   "id": "c8957c23",
   "metadata": {},
   "outputs": [],
   "source": [
    "sample_submission['sada'] = predictions"
   ]
  },
  {
   "cell_type": "code",
   "execution_count": 43,
   "id": "8c199daa",
   "metadata": {},
   "outputs": [],
   "source": [
    "sample_submission.drop(['Power(kW)'],axis= 1,inplace = True)"
   ]
  },
  {
   "cell_type": "code",
   "execution_count": 44,
   "id": "01155393",
   "metadata": {},
   "outputs": [],
   "source": [
    "sample_submission.rename(columns = {'sada':'Power(kW)'},inplace = True)"
   ]
  },
  {
   "cell_type": "code",
   "execution_count": 45,
   "id": "19352612",
   "metadata": {},
   "outputs": [],
   "source": [
    "sample_submission = sample_submission.set_index('Timestamp')"
   ]
  },
  {
   "cell_type": "code",
   "execution_count": 46,
   "id": "523c0aa1",
   "metadata": {},
   "outputs": [],
   "source": [
    "sample_submission.to_csv('enerjisa2_sub10.csv',sep=',') "
   ]
  },
  {
   "cell_type": "code",
   "execution_count": null,
   "id": "f691e56a",
   "metadata": {},
   "outputs": [],
   "source": []
  }
 ],
 "metadata": {
  "kernelspec": {
   "display_name": "Python 3",
   "language": "python",
   "name": "python3"
  },
  "language_info": {
   "codemirror_mode": {
    "name": "ipython",
    "version": 3
   },
   "file_extension": ".py",
   "mimetype": "text/x-python",
   "name": "python",
   "nbconvert_exporter": "python",
   "pygments_lexer": "ipython3",
   "version": "3.8.8"
  }
 },
 "nbformat": 4,
 "nbformat_minor": 5
}
